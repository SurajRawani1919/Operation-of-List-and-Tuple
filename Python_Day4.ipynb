{
 "cells": [
  {
   "cell_type": "code",
   "execution_count": 1,
   "id": "a25aa375-4e53-4d52-a239-aef10b6613bc",
   "metadata": {},
   "outputs": [],
   "source": [
    "#Character-string,list,tuple\n",
    "#list indexing and slicing "
   ]
  },
  {
   "cell_type": "code",
   "execution_count": 4,
   "id": "8de556bf-7d60-4a80-b705-31ccf29abc69",
   "metadata": {},
   "outputs": [
    {
     "name": "stdout",
     "output_type": "stream",
     "text": [
      "[1, 2, 3, 4, 'Apple', 3.4, 10]\n"
     ]
    }
   ],
   "source": [
    "#append :- any datatypes can be added \n",
    "l1=[1,2,3,4,'Apple',3.4]\n",
    "l1.append(10)\n",
    "print(l1)"
   ]
  },
  {
   "cell_type": "code",
   "execution_count": 6,
   "id": "29ee6078-7fbd-4979-a832-657a195e9c88",
   "metadata": {},
   "outputs": [
    {
     "name": "stdout",
     "output_type": "stream",
     "text": [
      "[1, 2, 3, 4, 'Apple', 3.4, 10, 11, 12, 13, 11, 12, 13]\n"
     ]
    }
   ],
   "source": [
    "#extend:- adding elements at the end of the list\n",
    "l1.extend([11,12,13])\n",
    "print(l1)\n"
   ]
  },
  {
   "cell_type": "code",
   "execution_count": 8,
   "id": "debfcc24-98ff-4a73-9484-160cbca26826",
   "metadata": {},
   "outputs": [
    {
     "name": "stdout",
     "output_type": "stream",
     "text": [
      "[1, 2, 15, 15, 3, 4, 'Apple', 3.4, 10, 11, 12, 13, 11, 12, 13]\n"
     ]
    }
   ],
   "source": [
    "#insert\n",
    "l1.insert(2,15)\n",
    "print(l1)"
   ]
  },
  {
   "cell_type": "code",
   "execution_count": 10,
   "id": "aa860a04-683f-4dd5-8a58-5dc4106cf22e",
   "metadata": {},
   "outputs": [
    {
     "ename": "ValueError",
     "evalue": "list.remove(x): x not in list",
     "output_type": "error",
     "traceback": [
      "\u001b[1;31m---------------------------------------------------------------------------\u001b[0m",
      "\u001b[1;31mValueError\u001b[0m                                Traceback (most recent call last)",
      "Cell \u001b[1;32mIn[10], line 2\u001b[0m\n\u001b[0;32m      1\u001b[0m \u001b[38;5;66;03m#remove :- delete the element in the list \u001b[39;00m\n\u001b[1;32m----> 2\u001b[0m \u001b[43ml1\u001b[49m\u001b[38;5;241;43m.\u001b[39;49m\u001b[43mremove\u001b[49m\u001b[43m(\u001b[49m\u001b[38;5;241;43m2\u001b[39;49m\u001b[43m)\u001b[49m\n\u001b[0;32m      3\u001b[0m \u001b[38;5;28mprint\u001b[39m(l1)\n",
      "\u001b[1;31mValueError\u001b[0m: list.remove(x): x not in list"
     ]
    }
   ],
   "source": [
    "#remove :- delete the element in the list \n",
    "l1.remove(2)\n",
    "print(l1)"
   ]
  },
  {
   "cell_type": "code",
   "execution_count": 12,
   "id": "2c33ca20-264d-43a6-bc43-e2a98a2dc5ec",
   "metadata": {},
   "outputs": [
    {
     "name": "stdout",
     "output_type": "stream",
     "text": [
      "[1, 3, 4, 2]\n"
     ]
    }
   ],
   "source": [
    "l2=[1,2,3,4,2]\n",
    "l2.remove(2)\n",
    "print(l2)"
   ]
  },
  {
   "cell_type": "code",
   "execution_count": 14,
   "id": "71eda046-1e53-43b5-acf5-2b82b4b7deca",
   "metadata": {},
   "outputs": [
    {
     "name": "stdout",
     "output_type": "stream",
     "text": [
      "[1, 15, 4, 'Apple', 3.4, 10, 11, 12, 13, 11, 12, 13]\n"
     ]
    }
   ],
   "source": [
    "#pop :- delete the element from index position \n",
    "l1.pop(2)\n",
    "print(l1)\n"
   ]
  },
  {
   "cell_type": "code",
   "execution_count": 15,
   "id": "d3fc5f24-983e-423d-8204-834f7524eb13",
   "metadata": {},
   "outputs": [
    {
     "name": "stdout",
     "output_type": "stream",
     "text": [
      "[10, 20, 30, 40, 50, 'Suraj']\n"
     ]
    }
   ],
   "source": [
    "l3=[10,20,30,40,50,'Suraj']\n",
    "print(l3)"
   ]
  },
  {
   "cell_type": "code",
   "execution_count": 17,
   "id": "7ba8367b-4011-455c-a706-c5bfe067c696",
   "metadata": {},
   "outputs": [
    {
     "name": "stdout",
     "output_type": "stream",
     "text": [
      "[10, 20, 30, 40, 50, 'Suraj', 'Singh', 'Singh']\n"
     ]
    }
   ],
   "source": [
    "l3.append('Singh')\n",
    "print(l3)"
   ]
  },
  {
   "cell_type": "code",
   "execution_count": 20,
   "id": "b94b9d65-f7fb-4136-9e11-f25d2e6df5b0",
   "metadata": {},
   "outputs": [
    {
     "name": "stdout",
     "output_type": "stream",
     "text": [
      "[10, 20, 30, 40, 50, 'Suraj', 'Singh', 'Singh', 60, 60]\n"
     ]
    }
   ],
   "source": [
    "l3.extend([60])\n",
    "print(l3)"
   ]
  },
  {
   "cell_type": "code",
   "execution_count": 22,
   "id": "4b66d9d5-8351-4eb8-9bd8-3a7294d6a45b",
   "metadata": {},
   "outputs": [
    {
     "name": "stdout",
     "output_type": "stream",
     "text": [
      "[10, 20, 15, 15, 30, 40, 50, 'Suraj', 'Singh', 'Singh', 60, 60]\n"
     ]
    }
   ],
   "source": [
    "l3.insert(2,15)\n",
    "print(l3)"
   ]
  },
  {
   "cell_type": "code",
   "execution_count": 24,
   "id": "bb4cfaf8-b509-41a9-981e-9b10b7d4c8da",
   "metadata": {},
   "outputs": [
    {
     "data": {
      "text/plain": [
       "[10, 20, 30, 40, 50, 'Suraj', 'Singh', 'Singh', 60, 60]"
      ]
     },
     "execution_count": 24,
     "metadata": {},
     "output_type": "execute_result"
    }
   ],
   "source": [
    "l3.remove(15)\n",
    "l3"
   ]
  },
  {
   "cell_type": "code",
   "execution_count": 55,
   "id": "d81561ee-db08-4af2-affd-316b0ddaec19",
   "metadata": {},
   "outputs": [
    {
     "ename": "IndexError",
     "evalue": "pop index out of range",
     "output_type": "error",
     "traceback": [
      "\u001b[1;31m---------------------------------------------------------------------------\u001b[0m",
      "\u001b[1;31mIndexError\u001b[0m                                Traceback (most recent call last)",
      "Cell \u001b[1;32mIn[55], line 1\u001b[0m\n\u001b[1;32m----> 1\u001b[0m \u001b[43ml3\u001b[49m\u001b[38;5;241;43m.\u001b[39;49m\u001b[43mpop\u001b[49m\u001b[43m(\u001b[49m\u001b[38;5;241;43m6\u001b[39;49m\u001b[43m)\u001b[49m\n\u001b[0;32m      2\u001b[0m \u001b[38;5;28mprint\u001b[39m(l3)\n",
      "\u001b[1;31mIndexError\u001b[0m: pop index out of range"
     ]
    }
   ],
   "source": [
    "l3.pop(6)\n",
    "print(l3)\n"
   ]
  },
  {
   "cell_type": "code",
   "execution_count": 58,
   "id": "7835aa3d-7b03-437d-a7f4-5eec1183d8bd",
   "metadata": {},
   "outputs": [
    {
     "name": "stdout",
     "output_type": "stream",
     "text": [
      "[1, 2, 3, 4]\n"
     ]
    }
   ],
   "source": [
    "l2=[1,2,3,4]\n",
    "print(l2)"
   ]
  },
  {
   "cell_type": "code",
   "execution_count": 60,
   "id": "9b7d22a1-9fb5-4ff6-b5cc-8c04c9080210",
   "metadata": {},
   "outputs": [
    {
     "name": "stdout",
     "output_type": "stream",
     "text": [
      "[1, 2]\n"
     ]
    }
   ],
   "source": [
    "l2.pop()\n",
    "print(l2)"
   ]
  },
  {
   "cell_type": "code",
   "execution_count": 63,
   "id": "8aa55286-f536-435a-8da0-a529a7f6e790",
   "metadata": {},
   "outputs": [
    {
     "name": "stdout",
     "output_type": "stream",
     "text": [
      "[]\n"
     ]
    }
   ],
   "source": [
    "l2.clear()\n",
    "print(l2)"
   ]
  },
  {
   "cell_type": "code",
   "execution_count": 66,
   "id": "5cb21b28-7ba4-419e-bc6a-15a7d3f055cd",
   "metadata": {},
   "outputs": [
    {
     "name": "stdout",
     "output_type": "stream",
     "text": [
      "[1, 2, 3, 4, 5, 6, 7, 8]\n"
     ]
    }
   ],
   "source": [
    "l4=[5,4,3,6,8,7,1,2]\n",
    "l4.sort()\n",
    "print(l4)"
   ]
  },
  {
   "cell_type": "code",
   "execution_count": 68,
   "id": "ab56d3a1-bffd-44c5-899f-de91414c8499",
   "metadata": {},
   "outputs": [
    {
     "ename": "TypeError",
     "evalue": "'str' object cannot be interpreted as an integer",
     "output_type": "error",
     "traceback": [
      "\u001b[1;31m---------------------------------------------------------------------------\u001b[0m",
      "\u001b[1;31mTypeError\u001b[0m                                 Traceback (most recent call last)",
      "Cell \u001b[1;32mIn[68], line 1\u001b[0m\n\u001b[1;32m----> 1\u001b[0m \u001b[43ml4\u001b[49m\u001b[38;5;241;43m.\u001b[39;49m\u001b[43msort\u001b[49m\u001b[43m(\u001b[49m\u001b[43mreverse\u001b[49m\u001b[38;5;241;43m=\u001b[39;49m\u001b[38;5;124;43m'\u001b[39;49m\u001b[38;5;124;43mTrue\u001b[39;49m\u001b[38;5;124;43m'\u001b[39;49m\u001b[43m)\u001b[49m\n\u001b[0;32m      2\u001b[0m \u001b[38;5;28mprint\u001b[39m(l4)\n",
      "\u001b[1;31mTypeError\u001b[0m: 'str' object cannot be interpreted as an integer"
     ]
    }
   ],
   "source": [
    "l4.sort(reverse='True')\n",
    "print(l4)"
   ]
  },
  {
   "cell_type": "code",
   "execution_count": 71,
   "id": "4bbcbca5-d08c-4560-bccb-6fe514fea2c8",
   "metadata": {},
   "outputs": [
    {
     "name": "stdout",
     "output_type": "stream",
     "text": [
      "[6, 5, 'jaipur', 'apple', 3, 2, 1]\n"
     ]
    }
   ],
   "source": [
    "l5=[1,2,3,'apple','jaipur',5,6]\n",
    "l5.reverse()\n",
    "print(l5)"
   ]
  },
  {
   "cell_type": "code",
   "execution_count": 73,
   "id": "4c10d12b-8f05-4450-8b07-2f88feba6c3d",
   "metadata": {},
   "outputs": [
    {
     "name": "stdout",
     "output_type": "stream",
     "text": [
      "[6, 5, 'jaipur', 'apple', 3, 2, 1]\n"
     ]
    }
   ],
   "source": [
    "l6=l5.copy()\n",
    "print(l6)"
   ]
  },
  {
   "cell_type": "code",
   "execution_count": 77,
   "id": "43063b08-c3f3-4643-a5b1-17634d69ed2a",
   "metadata": {},
   "outputs": [
    {
     "data": {
      "text/plain": [
       "2"
      ]
     },
     "execution_count": 77,
     "metadata": {},
     "output_type": "execute_result"
    }
   ],
   "source": [
    "l7=[1,4,5,4,3,2,4,5,6,4,4,4,4,4,4,4]\n",
    "l7.count(5)"
   ]
  },
  {
   "cell_type": "code",
   "execution_count": 81,
   "id": "2864ec41-cca2-4252-85d5-24aacd128571",
   "metadata": {},
   "outputs": [
    {
     "data": {
      "text/plain": [
       "10"
      ]
     },
     "execution_count": 81,
     "metadata": {},
     "output_type": "execute_result"
    }
   ],
   "source": [
    "l7.count(4)"
   ]
  },
  {
   "cell_type": "code",
   "execution_count": 84,
   "id": "9b5b4be6-ba51-4fab-904a-f827ab04ee2a",
   "metadata": {},
   "outputs": [
    {
     "data": {
      "text/plain": [
       "3"
      ]
     },
     "execution_count": 84,
     "metadata": {},
     "output_type": "execute_result"
    }
   ],
   "source": [
    "l7.index(4,2,9)  # element,[start],[end]"
   ]
  },
  {
   "cell_type": "code",
   "execution_count": 86,
   "id": "afc797df-c3ed-400b-bcae-03f18d82145f",
   "metadata": {},
   "outputs": [
    {
     "data": {
      "text/plain": [
       "16"
      ]
     },
     "execution_count": 86,
     "metadata": {},
     "output_type": "execute_result"
    }
   ],
   "source": [
    "len(l7)"
   ]
  },
  {
   "cell_type": "code",
   "execution_count": 88,
   "id": "a75f6c65-6078-46e9-aaf7-a2ef42f32ea9",
   "metadata": {},
   "outputs": [
    {
     "data": {
      "text/plain": [
       "1"
      ]
     },
     "execution_count": 88,
     "metadata": {},
     "output_type": "execute_result"
    }
   ],
   "source": [
    "min(l7)\n"
   ]
  },
  {
   "cell_type": "code",
   "execution_count": 1,
   "id": "a9423b7a-be94-4aa8-bfa4-4e14aba7e748",
   "metadata": {},
   "outputs": [
    {
     "ename": "SyntaxError",
     "evalue": "invalid syntax (592619304.py, line 1)",
     "output_type": "error",
     "traceback": [
      "\u001b[1;36m  Cell \u001b[1;32mIn[1], line 1\u001b[1;36m\u001b[0m\n\u001b[1;33m    max(l7)3\u001b[0m\n\u001b[1;37m           ^\u001b[0m\n\u001b[1;31mSyntaxError\u001b[0m\u001b[1;31m:\u001b[0m invalid syntax\n"
     ]
    }
   ],
   "source": [
    "max(l7)3"
   ]
  },
  {
   "cell_type": "code",
   "execution_count": 4,
   "id": "b9be8f7c-0189-4413-9eb5-f33a7e1bcd62",
   "metadata": {},
   "outputs": [
    {
     "name": "stdout",
     "output_type": "stream",
     "text": [
      "[1, 2, 3, 4, 1, 2, 3, 4, 1, 2, 3, 4]\n"
     ]
    }
   ],
   "source": [
    "o = [1,2,3,4]\n",
    "m = [1,2,3,4]\n",
    "c = [1,2,3,4]\n",
    "o.extend(m)\n",
    "o.extend(c)\n",
    "print(o)"
   ]
  },
  {
   "cell_type": "code",
   "execution_count": null,
   "id": "0e017c0c-d72a-4133-aeab-9b4b403c67ac",
   "metadata": {},
   "outputs": [],
   "source": []
  }
 ],
 "metadata": {
  "kernelspec": {
   "display_name": "Python 3 (ipykernel)",
   "language": "python",
   "name": "python3"
  },
  "language_info": {
   "codemirror_mode": {
    "name": "ipython",
    "version": 3
   },
   "file_extension": ".py",
   "mimetype": "text/x-python",
   "name": "python",
   "nbconvert_exporter": "python",
   "pygments_lexer": "ipython3",
   "version": "3.10.11"
  }
 },
 "nbformat": 4,
 "nbformat_minor": 5
}
